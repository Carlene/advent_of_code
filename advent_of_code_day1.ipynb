{
 "cells": [
  {
   "cell_type": "code",
   "execution_count": 1,
   "metadata": {},
   "outputs": [],
   "source": [
    "start_lst = [1962,\n",
    "1577,\n",
    "1750,\n",
    "1836,\n",
    "1762,\n",
    "1691,\n",
    "1726,\n",
    "1588,\n",
    "1370,\n",
    "1043,\n",
    "1307,\n",
    "1552,\n",
    "1813,\n",
    "1804,\n",
    "1765,\n",
    "1893,\n",
    "1610,\n",
    "764,\n",
    "1512,\n",
    "1404,\n",
    "1711,\n",
    "1000,\n",
    "1694,\n",
    "1546,\n",
    "1880,\n",
    "1721,\n",
    "2006,\n",
    "1787,\n",
    "1510,\n",
    "1850,\n",
    "1420,\n",
    "1712,\n",
    "1926,\n",
    "1707,\n",
    "1983,\n",
    "1680,\n",
    "1436,\n",
    "389,\n",
    "1448,\n",
    "1875,\n",
    "1333,\n",
    "1733,\n",
    "1935,\n",
    "1794,\n",
    "1337,\n",
    "1863,\n",
    "1769,\n",
    "1635,\n",
    "1499,\n",
    "1807,\n",
    "1326,\n",
    "1989,\n",
    "1705,\n",
    "1673,\n",
    "1829,\n",
    "1684,\n",
    "1716,\n",
    "456,\n",
    "1696,\n",
    "1398,\n",
    "1942,\n",
    "1851,\n",
    "1690,\n",
    "1328,\n",
    "1356,\n",
    "1775,\n",
    "1564,\n",
    "1466,\n",
    "1273,\n",
    "1896,\n",
    "766,\n",
    "1814,\n",
    "1810,\n",
    "1537,\n",
    "1463,\n",
    "1755,\n",
    "1341,\n",
    "1665,\n",
    "1520,\n",
    "1366,\n",
    "1387,\n",
    "1976,\n",
    "1717,\n",
    "1737,\n",
    "1551,\n",
    "1760,\n",
    "1496,\n",
    "1664,\n",
    "1450,\n",
    "1319,\n",
    "1674,\n",
    "1630,\n",
    "1301,\n",
    "1330,\n",
    "1658,\n",
    "1637,\n",
    "1655,\n",
    "1439,\n",
    "1832,\n",
    "1948,\n",
    "1339,\n",
    "1656,\n",
    "1449,\n",
    "1296,\n",
    "1489,\n",
    "1758,\n",
    "1939,\n",
    "1857,\n",
    "1402,\n",
    "1394,\n",
    "1882,\n",
    "1446,\n",
    "1412,\n",
    "1430,\n",
    "1212,\n",
    "1377,\n",
    "1501,\n",
    "1873,\n",
    "1812,\n",
    "1667,\n",
    "1560,\n",
    "1654,\n",
    "1575,\n",
    "1999,\n",
    "1581,\n",
    "1792,\n",
    "1299,\n",
    "1843,\n",
    "1383,\n",
    "1351,\n",
    "1297,\n",
    "1822,\n",
    "1801,\n",
    "1977,\n",
    "1316,\n",
    "1477,\n",
    "1980,\n",
    "1693,\n",
    "1220,\n",
    "1554,\n",
    "1607,\n",
    "1903,\n",
    "1669,\n",
    "1593,\n",
    "1955,\n",
    "1286,\n",
    "1909,\n",
    "1280,\n",
    "1854,\n",
    "2005,\n",
    "1820,\n",
    "1803,\n",
    "1763,\n",
    "1660,\n",
    "1410,\n",
    "1974,\n",
    "1808,\n",
    "1816,\n",
    "1723,\n",
    "1936,\n",
    "1423,\n",
    "1818,\n",
    "1800,\n",
    "1294,\n",
    "857,\n",
    "496,\n",
    "1248,\n",
    "1670,\n",
    "1993,\n",
    "1929,\n",
    "1966,\n",
    "1381,\n",
    "1259,\n",
    "1285,\n",
    "1797,\n",
    "1644,\n",
    "1919,\n",
    "1267,\n",
    "1509,\n",
    "399,\n",
    "1300,\n",
    "1662,\n",
    "1556,\n",
    "1747,\n",
    "1517,\n",
    "1972,\n",
    "1729,\n",
    "1506,\n",
    "1544,\n",
    "1957,\n",
    "1930,\n",
    "1956,\n",
    "1753,\n",
    "1284,\n",
    "1389,\n",
    "1689,\n",
    "1709,\n",
    "1627,\n",
    "1770,\n",
    "847]"
   ]
  },
  {
   "cell_type": "code",
   "execution_count": 2,
   "metadata": {},
   "outputs": [],
   "source": [
    "# high = []\n",
    "# low = []\n",
    "# half = []\n",
    "\n",
    "# def add_to_2020(lst):\n",
    "#     for number in lst:\n",
    "#         if number == 1010:\n",
    "#             half.append(number)\n",
    "#             if len(half) == 2:\n",
    "#                 return sum(half)\n",
    "#         elif number > 1010:\n",
    "#             high.append(number)\n",
    "#         else:\n",
    "#             low.append(number)\n",
    "            "
   ]
  },
  {
   "cell_type": "code",
   "execution_count": 3,
   "metadata": {},
   "outputs": [],
   "source": [
    "# find two numbers in a list that add to 2020\n",
    "\n",
    "def add_to_2020(lst):\n",
    "    for number in lst:\n",
    "        subtrahend = 2020 - number\n",
    "        for number2 in lst:\n",
    "            if subtrahend in lst:\n",
    "                return [number, subtrahend]"
   ]
  },
  {
   "cell_type": "code",
   "execution_count": 4,
   "metadata": {},
   "outputs": [],
   "source": [
    "def test(actual, expected):\n",
    "    if actual != expected:\n",
    "        print(f\"I expected {expected} but got {actual}\")\n",
    "    else:\n",
    "        print(\"You're amazing and beautiful and wonderful\")"
   ]
  },
  {
   "cell_type": "code",
   "execution_count": 6,
   "metadata": {},
   "outputs": [
    {
     "name": "stdout",
     "output_type": "stream",
     "text": [
      "You're amazing and beautiful and wonderful\n",
      "You're amazing and beautiful and wonderful\n",
      "You're amazing and beautiful and wonderful\n"
     ]
    }
   ],
   "source": [
    "test(add_to_2020([0, 2000, 20]), [2000, 20])\n",
    "test(add_to_2020([1721, 979, 366, 299, 675, 1456]), [1721, 299])\n",
    "test(add_to_2020(start_lst), [456, 1564])"
   ]
  },
  {
   "cell_type": "code",
   "execution_count": null,
   "metadata": {},
   "outputs": [],
   "source": []
  },
  {
   "cell_type": "code",
   "execution_count": 7,
   "metadata": {},
   "outputs": [],
   "source": [
    "# multiply together the two numbers in a list that add to 2020\n",
    "\n",
    "def multiply_lst(lst):\n",
    "    product = 1\n",
    "    for number in lst:\n",
    "        product *= number\n",
    "    return product"
   ]
  },
  {
   "cell_type": "code",
   "execution_count": 8,
   "metadata": {},
   "outputs": [
    {
     "name": "stdout",
     "output_type": "stream",
     "text": [
      "You're amazing and beautiful and wonderful\n",
      "You're amazing and beautiful and wonderful\n",
      "You're amazing and beautiful and wonderful\n",
      "You're amazing and beautiful and wonderful\n"
     ]
    }
   ],
   "source": [
    "test(multiply_lst([2000, 20]), 40000)\n",
    "test(multiply_lst([1721, 979, 366, 299]), 184380859806)\n",
    "test(multiply_lst([456, 1564]), 713184)\n",
    "test(multiply_lst(add_to_2020(start_lst)), 713184)"
   ]
  },
  {
   "cell_type": "code",
   "execution_count": null,
   "metadata": {},
   "outputs": [],
   "source": []
  },
  {
   "cell_type": "code",
   "execution_count": 21,
   "metadata": {},
   "outputs": [],
   "source": [
    "# def add_three_to_2020(lst):\n",
    "#     for number in lst:\n",
    "#         result = 2020 - number\n",
    "#         for number2 in lst:\n",
    "#             result -= number2\n",
    "#             if result <= 0:\n",
    "#                 continue\n",
    "#             else:\n",
    "#                 for number3 in lst:\n",
    "#                     if number3 == result:\n",
    "#                         return [number, number2, number3]"
   ]
  },
  {
   "cell_type": "code",
   "execution_count": 32,
   "metadata": {},
   "outputs": [],
   "source": [
    "# find three numbers in a list that add to 2020\n",
    "\n",
    "def add_three_to_2020(lst):\n",
    "    for number in lst:\n",
    "        result = 2020 - number\n",
    "        for number2 in lst:\n",
    "            result -= number2\n",
    "            if result in lst:\n",
    "                return [number, number2, result]\n",
    "            else:\n",
    "                result = 2020 - number"
   ]
  },
  {
   "cell_type": "code",
   "execution_count": 35,
   "metadata": {},
   "outputs": [
    {
     "name": "stdout",
     "output_type": "stream",
     "text": [
      "You're amazing and beautiful and wonderful\n",
      "You're amazing and beautiful and wonderful\n",
      "You're amazing and beautiful and wonderful\n",
      "You're amazing and beautiful and wonderful\n"
     ]
    }
   ],
   "source": [
    "test(add_three_to_2020([2000, 10, 10]), [2000, 10, 10])\n",
    "test(add_three_to_2020([400, 300, 700, 900]), None)\n",
    "test(add_three_to_2020([400, 300, 700, 920]), [400, 700, 920])\n",
    "test(add_three_to_2020(start_lst), [764, 857, 399])"
   ]
  },
  {
   "cell_type": "code",
   "execution_count": 36,
   "metadata": {},
   "outputs": [
    {
     "data": {
      "text/plain": [
       "261244452"
      ]
     },
     "execution_count": 36,
     "metadata": {},
     "output_type": "execute_result"
    }
   ],
   "source": [
    "# multiply the three numbers in a list that add to 2020\n",
    "\n",
    "multiply_lst(add_three_to_2020(start_lst))"
   ]
  },
  {
   "cell_type": "code",
   "execution_count": null,
   "metadata": {},
   "outputs": [],
   "source": []
  }
 ],
 "metadata": {
  "kernelspec": {
   "display_name": "Python 3",
   "language": "python",
   "name": "python3"
  },
  "language_info": {
   "codemirror_mode": {
    "name": "ipython",
    "version": 3
   },
   "file_extension": ".py",
   "mimetype": "text/x-python",
   "name": "python",
   "nbconvert_exporter": "python",
   "pygments_lexer": "ipython3",
   "version": "3.7.6"
  }
 },
 "nbformat": 4,
 "nbformat_minor": 4
}
